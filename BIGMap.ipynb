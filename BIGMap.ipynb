{
 "cells": [
  {
   "cell_type": "code",
   "execution_count": 4,
   "metadata": {},
   "outputs": [
    {
     "data": {
      "text/html": [
       "<iframe src=https://abbywanyuliu.com/BIGMap.html width=800 height=600></iframe>"
      ],
      "text/plain": [
       "<IPython.core.display.HTML object>"
      ]
     },
     "execution_count": 4,
     "metadata": {},
     "output_type": "execute_result"
    }
   ],
   "source": [
    "# BIGMap: Bayesian Information Gain Navigation\n",
    "\n",
    "import ipywidgets as widgets\n",
    "from IPython.display import HTML\n",
    "HTML('<iframe src=https://abbywanyuliu.com/BIGMap.html width=800 height=600></iframe>')\n",
    "\n",
    "# in order to use BIGnav, select a target from the pulldown menu first. E.g. Sdyney\n",
    "# Toggle button switches between BIGnav and standard pan and zoom"
   ]
  },
  {
   "cell_type": "code",
   "execution_count": 5,
   "metadata": {},
   "outputs": [
    {
     "name": "stdout",
     "output_type": "stream",
     "text": [
      "[0.02, 0.02, 0.02, 0.02, 0.02, 0.02, 0.02, 0.02, 0.02, 0.02, 0.02, 0.02, 0.02, 0.02, 0.02, 0.02, 0.02, 0.02, 0.02, 0.02, 0.02, 0.02, 0.02, 0.02, 0.02, 0.02, 0.02, 0.02, 0.02, 0.02, 0.02, 0.02, 0.02, 0.02, 0.02, 0.02, 0.02, 0.02, 0.02, 0.02, 0.02, 0.02, 0.02, 0.02, 0.02, 0.02, 0.02, 0.02, 0.02, 0.02]\n"
     ]
    }
   ],
   "source": [
    "import random\n",
    "import math\n",
    "import matplotlib.pyplot as plt\n",
    "\n",
    "# we will work on a simpler version\n",
    "\n",
    "Cities = []\n",
    "\n",
    "# 50 cities on a 1-D line starting with a uniform distribution\n",
    "for i in range(50):\n",
    "    Cities.append(1.0/50.0)\n",
    "\n",
    "## TO DO: try different distributions:\n",
    "# a. non-uniform\n",
    "# for i in range(10):\n",
    "#     Cities.append(0.01)\n",
    "# for i in range(40):\n",
    "#     Cities.append(0.0225)\n",
    "\n",
    "# a map-like distribution: big cities surrounded by smaller cities\n",
    "# Big_cities = [0,10,20,30,40]\n",
    "# for i in range(50):\n",
    "#     Cities.append(1/50)\n",
    "# for j in Big_cities:\n",
    "#     Cities[j] = 0.15\n",
    "    \n",
    "print(Cities)\n",
    "\n",
    "# A view is defined as follows. A maximum zoom factor right - left = 2\n",
    "len_view = 2\n",
    "\n",
    "# possible user input:\n",
    "# 0: go left; 1: zoom in; 2: go right; 3+: clicking on each city\n",
    "\n",
    "N_input = 3 + len(Cities)\n",
    "    \n",
    "updates = Cities\n",
    "\n",
    "Uncertainty = []\n",
    "InformationGain = []"
   ]
  },
  {
   "cell_type": "code",
   "execution_count": 7,
   "metadata": {},
   "outputs": [
    {
     "name": "stdout",
     "output_type": "stream",
     "text": [
      "5.643856189774728\n"
     ]
    }
   ],
   "source": [
    "# To compute entropy with probability\n",
    "\n",
    "def H(List):\n",
    "    sum = 0\n",
    "    for i in range(len(List)):\n",
    "        if List[i] != 0: \n",
    "            sum = sum + List[i] * math.log(List[i],2)\n",
    "    return -sum\n",
    "\n",
    "print(H(Cities))"
   ]
  },
  {
   "cell_type": "code",
   "execution_count": 8,
   "metadata": {},
   "outputs": [],
   "source": [
    "# To define what is supposed to be the user input given a city and a view\n",
    "def sinput(target, view):\n",
    "    sinp = 0\n",
    "    if target <= view[1] and target >= view[0] and view[1] - view[0] == len_view: sinp = target + 3\n",
    "    elif target <= view[1] and target >= view[0] and view[1] - view[0] > len_view: sinp = 1\n",
    "    elif target < view[0]: sinp = 0\n",
    "    elif target > view[1]: sinp = 2\n",
    "    return sinp"
   ]
  },
  {
   "cell_type": "code",
   "execution_count": 13,
   "metadata": {},
   "outputs": [
    {
     "name": "stdout",
     "output_type": "stream",
     "text": [
      "0\n",
      "1\n",
      "2\n",
      "18\n"
     ]
    }
   ],
   "source": [
    "print(sinput(15,[16,18]))\n",
    "print(sinput(15,[2,22]))\n",
    "print(sinput(15,[2,4]))\n",
    "print(sinput(15,[14,16]))"
   ]
  },
  {
   "cell_type": "code",
   "execution_count": 14,
   "metadata": {},
   "outputs": [],
   "source": [
    "# Define user behavior: user can go left, go right, zoom in and click on each city\n",
    "## TO DO: try change this and see how BIGnav behaves\n",
    "\n",
    "def Pr_u_t_v(user_input,target,view):\n",
    "    \n",
    "    comp = sinput(target, view)\n",
    "    p = 0\n",
    "      \n",
    "    if user_input == 0:\n",
    "        if comp == 0: p = 0.9\n",
    "        elif comp == 1: p = 0.05\n",
    "        elif comp == 2: p = 0.05\n",
    "        elif comp > 3: p = 0\n",
    "        \n",
    "    if user_input == 1:\n",
    "        if comp == 0: p = 0.05\n",
    "        elif comp == 1: p = 0.9\n",
    "        elif comp == 2: p = 0.05\n",
    "        elif comp > 3: p = 0\n",
    "    \n",
    "    if user_input == 2:\n",
    "        if comp == 0: p = 0.05\n",
    "        elif comp == 1: p = 0.05\n",
    "        elif comp == 2: p = 0.9\n",
    "        elif comp > 3: p = 0\n",
    "\n",
    "    if user_input > 2:\n",
    "        if comp == target + 3: p = 1\n",
    "        elif comp == 0: p = 0\n",
    "        elif comp == 1: p = 0\n",
    "        elif comp == 2: p = 0\n",
    "            \n",
    "    return p"
   ]
  },
  {
   "cell_type": "code",
   "execution_count": 15,
   "metadata": {},
   "outputs": [],
   "source": [
    "def Pr_u_v(user_input,view):\n",
    "    sum = 0\n",
    "    for i in range(len(updates)):\n",
    "        sum = sum + Pr_u_t_v(user_input,i,view) * updates[i] \n",
    "    return sum"
   ]
  },
  {
   "cell_type": "code",
   "execution_count": 16,
   "metadata": {},
   "outputs": [
    {
     "data": {
      "application/vnd.jupyter.widget-view+json": {
       "model_id": "a293970c44ed4f139ee0532d8ff29733",
       "version_major": 2,
       "version_minor": 0
      },
      "text/plain": [
       "HTMLMath(value=\"In Update, we use Bayes' rule to update the computer's prior knowledge: $$P(\\\\Theta=\\\\theta \\\\…"
      ]
     },
     "metadata": {},
     "output_type": "display_data"
    }
   ],
   "source": [
    "widgets.HTMLMath(\n",
    "    value=r\"In Update, we use Bayes' rule to update the computer's prior knowledge: $$P(\\Theta=\\theta \\mid X=x,Y=y) = \\frac{P(Y = y \\mid \\Theta=\\theta, X=x) P(\\Theta = \\theta)}{ P(Y=y | X=x)}$$ where: $$P(Y=y \\mid X=x) = \\sum\\limits_{\\theta'} P(Y = y \\mid \\Theta = \\theta', X=x) P(\\Theta = \\theta')$$\"\n",
    ")"
   ]
  },
  {
   "cell_type": "code",
   "execution_count": 17,
   "metadata": {},
   "outputs": [],
   "source": [
    "# after user input, update the probability of all potential targets\n",
    "\n",
    "def Update(user_input,view):\n",
    "    # compute entropy before updating\n",
    "    H_before = H(updates)\n",
    "    Uncertainty.append(H_before)\n",
    "    # update probability distribution\n",
    "    temp = Pr_u_v(user_input,view)\n",
    "    for i in range(len(updates)):\n",
    "        updates[i] = updates[i] * Pr_u_t_v(user_input,i,view) / temp\n",
    "    # compute entropy after updating\n",
    "    H_after = H(updates)\n",
    "    print(\"The actual information gain is: \", abs(H_after - H_before))\n",
    "    InformationGain.append(abs(H_after - H_before))"
   ]
  },
  {
   "cell_type": "code",
   "execution_count": 18,
   "metadata": {},
   "outputs": [
    {
     "data": {
      "application/vnd.jupyter.widget-view+json": {
       "model_id": "2a915986d04c45fe979a82934726c3ac",
       "version_major": 2,
       "version_minor": 0
      },
      "text/plain": [
       "HTMLMath(value=\"Expected information gain is computed as follows: $$IG(\\\\Theta | X=x, Y ) = H(\\\\Theta) - H(\\\\T…"
      ]
     },
     "metadata": {},
     "output_type": "display_data"
    }
   ],
   "source": [
    "widgets.HTMLMath(\n",
    "    value=r\"Expected information gain is computed as follows: $$IG(\\Theta | X=x, Y ) = H(\\Theta) - H(\\Theta | X=x, Y)$$ we use Bayes' theorem for entropies to convert the equation to: $$IG(\\Theta | X=x, Y ) = H(Y|X=x) - H(Y | \\Theta, X=x)$$ where the first term is given by $$-\\sum_{y} P(Y=y | X=x) \\log_2 P(Y=y | X=x)$$ and the second term is given by: $$-\\sum_{y,\\theta} P(\\Theta = \\theta) P(Y=y | \\Theta = \\theta , X=x)\\log_2P(Y=y | \\Theta = \\theta , X=x)$$\",\n",
    ")"
   ]
  },
  {
   "cell_type": "code",
   "execution_count": 19,
   "metadata": {},
   "outputs": [],
   "source": [
    "# given a view, compute the expected information gain\n",
    "    \n",
    "def E_IG(view):\n",
    "    temp1 = 0\n",
    "    temp2 = 0\n",
    "    sum1 = 0\n",
    "    sum2 = 0\n",
    "    \n",
    "    for i in range(N_input):\n",
    "        if Pr_u_v(i,view) != 0: \n",
    "            temp1 = - Pr_u_v(i,view) * math.log(Pr_u_v(i,view),2)\n",
    "        else: temp1 = 0\n",
    "        sum1 = sum1 + temp1\n",
    "    \n",
    "    for j in range(len(Cities)):\n",
    "        for i in range(N_input):\n",
    "            if Pr_u_t_v(i,j,view) != 0:\n",
    "                temp2 = - updates[j] * Pr_u_t_v(i,j,view) * math.log(Pr_u_t_v(i,j,view),2)\n",
    "            else: temp2 = 0\n",
    "        sum2 = sum2 + temp2\n",
    "    \n",
    "    return sum1 - sum2"
   ]
  },
  {
   "cell_type": "code",
   "execution_count": 20,
   "metadata": {},
   "outputs": [],
   "source": [
    "# go over all possible feedback, compute the maximum expected information gain\n",
    "\n",
    "def Max_E_IG():\n",
    "    max_IG = 0\n",
    "    if (updates[Target] > 0.9):\n",
    "        print(\"You have found your target!\")\n",
    "        InformationGain.append(Uncertainty[len(Uncertainty)-1])\n",
    "        Uncertainty.append(0)\n",
    "        return [Target-1, Target]\n",
    "    else:\n",
    "        for l in range(0,len(updates)-2):\n",
    "            for r in range(l+len_view, len(updates)):\n",
    "                if (E_IG([l,r]) > max_IG):\n",
    "                    opt_r = r\n",
    "                    opt_l = l\n",
    "                    max_IG = E_IG([l,r])\n",
    "        print(\"The most informative feedback is: \", [opt_l,opt_r])\n",
    "        return [opt_l,opt_r]"
   ]
  },
  {
   "cell_type": "code",
   "execution_count": 21,
   "metadata": {},
   "outputs": [
    {
     "name": "stdout",
     "output_type": "stream",
     "text": [
      "Your target is: City 38\n",
      "The most informative feedback is:  [23, 25]\n",
      "Your input?2\n",
      "The actual information gain is:  0.7732710384756603\n",
      "0.03956043956043954\n",
      "The most informative feedback is:  [36, 38]\n",
      "Your input?41\n",
      "The actual information gain is:  3.2856226505779116\n",
      "0.3333333333333333\n",
      "The most informative feedback is:  [34, 36]\n",
      "Your input?2\n",
      "The actual information gain is:  0.5849625007211561\n",
      "0.5\n",
      "The most informative feedback is:  [35, 37]\n",
      "Your input?2\n",
      "The actual information gain is:  1.0\n",
      "1.0\n",
      "You have found your target!\n"
     ]
    },
    {
     "data": {
      "image/png": "[encoded data removed]",
      "text/plain": [
       "<Figure size 432x288 with 1 Axes>"
      ]
     },
     "metadata": {
      "needs_background": "light"
     },
     "output_type": "display_data"
    }
   ],
   "source": [
    "#randomly assign a target\n",
    "Target = random.randint(0, 50)\n",
    "\n",
    "print(\"Your target is: City\", Target)\n",
    "# To start with, BIGnav finds the initial view\n",
    "\n",
    "feedback = Max_E_IG()\n",
    "\n",
    "# before tagrte is found\n",
    "while (updates[Target] < 0.9):\n",
    "    # receive user input\n",
    "    userinput = int(input(\"Your input?\"))\n",
    "    Update(userinput, feedback)\n",
    "    print(updates[Target])\n",
    "    feedback = Max_E_IG()\n",
    "    \n",
    "# print(InformationGain)\n",
    "# print(Uncertainty)\n",
    "\n",
    "# Visualize your interaction\n",
    "\n",
    "X_axis = [1]*len(Uncertainty)\n",
    "for i in range(len(X_axis)): X_axis[i] = i\n",
    "    \n",
    "fig, ax = plt.subplots()\n",
    "ax.plot(X_axis, InformationGain, 'go-', label = 'InformationGain')\n",
    "ax.plot(X_axis, Uncertainty, 'ro-', label = 'Uncertainty')\n",
    "\n",
    "plt.xlabel('N of user inputs')\n",
    "plt.ylabel('bits')\n",
    "legend = ax.legend(loc='upper right')\n",
    "ax.legend(loc='upper right', fancybox=True, shadow=False)\n",
    "plt.axis([0, len(Uncertainty), 0, Uncertainty[0]+1])\n",
    "\n",
    "plt.show()\n"
   ]
  },
  {
   "cell_type": "code",
   "execution_count": null,
   "metadata": {
    "collapsed": true
   },
   "outputs": [],
   "source": [
    "## TO DO: regularize the search for optimization"
   ]
  },
  {
   "cell_type": "code",
   "execution_count": null,
   "metadata": {
    "collapsed": true
   },
   "outputs": [],
   "source": [
    "## TO DO: think about how to apply BIG to other interaction tasks"
   ]
  },
  {
   "cell_type": "code",
   "execution_count": null,
   "metadata": {
    "collapsed": true
   },
   "outputs": [],
   "source": []
  }
 ],
 "metadata": {
  "kernelspec": {
   "display_name": "Python 3",
   "language": "python",
   "name": "python3"
  },
  "language_info": {
   "codemirror_mode": {
    "name": "ipython",
    "version": 3
   },
   "file_extension": ".py",
   "mimetype": "text/x-python",
   "name": "python",
   "nbconvert_exporter": "python",
   "pygments_lexer": "ipython3",
   "version": "3.7.1"
  }
 },
 "nbformat": 4,
 "nbformat_minor": 2
}
